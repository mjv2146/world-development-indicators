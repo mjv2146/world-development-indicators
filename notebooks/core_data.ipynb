{
 "cells": [
  {
   "cell_type": "code",
   "execution_count": 26,
   "metadata": {},
   "outputs": [],
   "source": [
    "import os\n",
    "from google.cloud import bigquery\n",
    "\n",
    "os.environ.setdefault(\"GCLOUD_PROJECT\", \"enduring-rush-410922\")\n",
    "client = bigquery.Client()"
   ]
  },
  {
   "cell_type": "code",
   "execution_count": 32,
   "metadata": {},
   "outputs": [],
   "source": [
    "QUERY = \"\"\"\n",
    "SELECT country_code, \n",
    "CASE\n",
    "    WHEN indicator_code = \"NY.GDP.MKTP.KD\" THEN \"GDP\"\n",
    "    WHEN indicator_code = \"NE.CON.TOTL.KD\" THEN \"Consumption\"\n",
    "    WHEN indicator_code = \"NE.GDI.FTOT.KD\" THEN \"Investment\"\n",
    "    WHEN indicator_code = \"NE.EXP.GNFS.KD\" THEN \"Exports\"\n",
    "    WHEN indicator_code = \"NE.IMP.GNFS.KD\" THEN \"Imports\"\n",
    "    WHEN indicator_code = \"SP.POP.TOTL\" THEN \"Population\"\n",
    "END AS Indicator,\n",
    "year Year,\n",
    "value\n",
    "FROM bigquery-public-data.world_bank_wdi.indicators_data\n",
    "WHERE indicator_code IN (\n",
    "    \"NY.GDP.MKTP.KD\", --GDP\n",
    "    \"NE.CON.TOTL.KD\", --Consumption\n",
    "    \"NE.GDI.FTOT.KD\", --Investment\n",
    "    \"NE.EXP.GNFS.KD\", --Exports\n",
    "    \"NE.IMP.GNFS.KD\",  --Imports\n",
    "    \"SP.POP.TOTL\" --Population\n",
    "  ) \n",
    "ORDER BY country_code, indicator, year\n",
    "\"\"\""
   ]
  },
  {
   "cell_type": "code",
   "execution_count": 33,
   "metadata": {},
   "outputs": [],
   "source": [
    "# Perform a query.\n",
    "query_job = client.query(QUERY)  # API request\n",
    "df = query_job.to_dataframe()"
   ]
  },
  {
   "cell_type": "code",
   "execution_count": 34,
   "metadata": {},
   "outputs": [
    {
     "data": {
      "text/html": [
       "<div>\n",
       "<style scoped>\n",
       "    .dataframe tbody tr th:only-of-type {\n",
       "        vertical-align: middle;\n",
       "    }\n",
       "\n",
       "    .dataframe tbody tr th {\n",
       "        vertical-align: top;\n",
       "    }\n",
       "\n",
       "    .dataframe thead th {\n",
       "        text-align: right;\n",
       "    }\n",
       "</style>\n",
       "<table border=\"1\" class=\"dataframe\">\n",
       "  <thead>\n",
       "    <tr style=\"text-align: right;\">\n",
       "      <th></th>\n",
       "      <th>country_code</th>\n",
       "      <th>Indicator</th>\n",
       "      <th>Year</th>\n",
       "      <th>value</th>\n",
       "    </tr>\n",
       "  </thead>\n",
       "  <tbody>\n",
       "    <tr>\n",
       "      <th>0</th>\n",
       "      <td>ABW</td>\n",
       "      <td>Consumption</td>\n",
       "      <td>2015</td>\n",
       "      <td>2.328514e+09</td>\n",
       "    </tr>\n",
       "    <tr>\n",
       "      <th>1</th>\n",
       "      <td>ABW</td>\n",
       "      <td>Exports</td>\n",
       "      <td>2015</td>\n",
       "      <td>2.158564e+09</td>\n",
       "    </tr>\n",
       "    <tr>\n",
       "      <th>2</th>\n",
       "      <td>ABW</td>\n",
       "      <td>GDP</td>\n",
       "      <td>1986</td>\n",
       "      <td>1.079460e+09</td>\n",
       "    </tr>\n",
       "    <tr>\n",
       "      <th>3</th>\n",
       "      <td>ABW</td>\n",
       "      <td>GDP</td>\n",
       "      <td>1987</td>\n",
       "      <td>1.253020e+09</td>\n",
       "    </tr>\n",
       "    <tr>\n",
       "      <th>4</th>\n",
       "      <td>ABW</td>\n",
       "      <td>GDP</td>\n",
       "      <td>1988</td>\n",
       "      <td>1.486691e+09</td>\n",
       "    </tr>\n",
       "    <tr>\n",
       "      <th>...</th>\n",
       "      <td>...</td>\n",
       "      <td>...</td>\n",
       "      <td>...</td>\n",
       "      <td>...</td>\n",
       "    </tr>\n",
       "    <tr>\n",
       "      <th>60138</th>\n",
       "      <td>ZWE</td>\n",
       "      <td>Population</td>\n",
       "      <td>2016</td>\n",
       "      <td>1.403034e+07</td>\n",
       "    </tr>\n",
       "    <tr>\n",
       "      <th>60139</th>\n",
       "      <td>ZWE</td>\n",
       "      <td>Population</td>\n",
       "      <td>2017</td>\n",
       "      <td>1.423660e+07</td>\n",
       "    </tr>\n",
       "    <tr>\n",
       "      <th>60140</th>\n",
       "      <td>ZWE</td>\n",
       "      <td>Population</td>\n",
       "      <td>2018</td>\n",
       "      <td>1.443881e+07</td>\n",
       "    </tr>\n",
       "    <tr>\n",
       "      <th>60141</th>\n",
       "      <td>ZWE</td>\n",
       "      <td>Population</td>\n",
       "      <td>2019</td>\n",
       "      <td>1.464547e+07</td>\n",
       "    </tr>\n",
       "    <tr>\n",
       "      <th>60142</th>\n",
       "      <td>ZWE</td>\n",
       "      <td>Population</td>\n",
       "      <td>2020</td>\n",
       "      <td>1.486293e+07</td>\n",
       "    </tr>\n",
       "  </tbody>\n",
       "</table>\n",
       "<p>60143 rows × 4 columns</p>\n",
       "</div>"
      ],
      "text/plain": [
       "      country_code    Indicator  Year         value\n",
       "0              ABW  Consumption  2015  2.328514e+09\n",
       "1              ABW      Exports  2015  2.158564e+09\n",
       "2              ABW          GDP  1986  1.079460e+09\n",
       "3              ABW          GDP  1987  1.253020e+09\n",
       "4              ABW          GDP  1988  1.486691e+09\n",
       "...            ...          ...   ...           ...\n",
       "60138          ZWE   Population  2016  1.403034e+07\n",
       "60139          ZWE   Population  2017  1.423660e+07\n",
       "60140          ZWE   Population  2018  1.443881e+07\n",
       "60141          ZWE   Population  2019  1.464547e+07\n",
       "60142          ZWE   Population  2020  1.486293e+07\n",
       "\n",
       "[60143 rows x 4 columns]"
      ]
     },
     "execution_count": 34,
     "metadata": {},
     "output_type": "execute_result"
    }
   ],
   "source": [
    "df.to_csv('../data/main.csv')\n",
    "df"
   ]
  },
  {
   "cell_type": "code",
   "execution_count": 36,
   "metadata": {},
   "outputs": [
    {
     "data": {
      "text/plain": [
       "Indicator\n",
       "Population     16123\n",
       "GDP            12177\n",
       "Imports         8176\n",
       "Exports         8157\n",
       "Consumption     8087\n",
       "Investment      7423\n",
       "Name: count, dtype: int64"
      ]
     },
     "execution_count": 36,
     "metadata": {},
     "output_type": "execute_result"
    }
   ],
   "source": [
    "df.Indicator.value_counts()"
   ]
  }
 ],
 "metadata": {
  "kernelspec": {
   "display_name": "main",
   "language": "python",
   "name": "python3"
  },
  "language_info": {
   "codemirror_mode": {
    "name": "ipython",
    "version": 3
   },
   "file_extension": ".py",
   "mimetype": "text/x-python",
   "name": "python",
   "nbconvert_exporter": "python",
   "pygments_lexer": "ipython3",
   "version": "3.10.12"
  }
 },
 "nbformat": 4,
 "nbformat_minor": 2
}
