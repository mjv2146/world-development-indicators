{
 "cells": [
  {
   "cell_type": "code",
   "execution_count": 1,
   "metadata": {},
   "outputs": [
    {
     "name": "stderr",
     "output_type": "stream",
     "text": [
      "/Users/mitch/envs/main/lib/python3.9/site-packages/urllib3/__init__.py:34: NotOpenSSLWarning: urllib3 v2 only supports OpenSSL 1.1.1+, currently the 'ssl' module is compiled with 'LibreSSL 2.8.3'. See: https://github.com/urllib3/urllib3/issues/3020\n",
      "  warnings.warn(\n"
     ]
    }
   ],
   "source": [
    "import os\n",
    "from google.cloud import bigquery\n",
    "\n",
    "os.environ.setdefault(\"GCLOUD_PROJECT\", \"enduring-rush-410922\")\n",
    "client = bigquery.Client()"
   ]
  },
  {
   "cell_type": "code",
   "execution_count": 44,
   "metadata": {},
   "outputs": [],
   "source": [
    "QUERY = \"\"\"\n",
    "WITH country_data AS (\n",
    "  SELECT country_code, \n",
    "  short_name Name,\n",
    "  region Region, \n",
    "  income_group `Income Group`\n",
    "  FROM bigquery-public-data.world_bank_wdi.country_summary\n",
    ")\n",
    "SELECT data.country_code, Name,\n",
    "CASE\n",
    "    WHEN indicator_code = \"NE.CON.TOTL.CD\" THEN \"Consumption\"\n",
    "    WHEN indicator_code = \"NE.CON.TOTL.CN\" THEN \"Consumption_alt\"\n",
    "    --WHEN indicator_code = \"NE.GDI.FTOT.KD\" THEN \"Investment\"\n",
    "    --WHEN indicator_code = \"NE.GDI.FTOT.KN\" THEN \"Investment_alt\"\n",
    "END AS Indicator,\n",
    "year Year,\n",
    "value, \n",
    "Region, \n",
    "`Income Group`\n",
    "FROM bigquery-public-data.world_bank_wdi.indicators_data data \n",
    "LEFT JOIN country_data\n",
    "ON data.country_code = country_data.country_code\n",
    "WHERE indicator_code IN (\n",
    "    \"NE.CON.TOTL.CD\", --Consumption\n",
    "    \"NE.CON.TOTL.CN\" --Consumption-alt \n",
    "    --\"NE.GDI.FTOT.KD\", --Investment\n",
    "    --\"NE.GDI.FTOT.KN\" --Investment-alt \n",
    "  ) \n",
    "AND country_data.Region IS NOT NULL\n",
    "AND country_data.`Income Group` IS NOT NULL\n",
    "ORDER BY country_code, indicator, year\n",
    "\"\"\""
   ]
  },
  {
   "cell_type": "code",
   "execution_count": 45,
   "metadata": {},
   "outputs": [],
   "source": [
    "query_job = client.query(QUERY)  # API request\n",
    "df = query_job.to_dataframe()"
   ]
  },
  {
   "cell_type": "code",
   "execution_count": 46,
   "metadata": {},
   "outputs": [
    {
     "data": {
      "text/plain": [
       "0"
      ]
     },
     "execution_count": 46,
     "metadata": {},
     "output_type": "execute_result"
    }
   ],
   "source": [
    "df['value'].isna().sum()"
   ]
  },
  {
   "cell_type": "code",
   "execution_count": 47,
   "metadata": {},
   "outputs": [
    {
     "data": {
      "text/html": [
       "<div>\n",
       "<style scoped>\n",
       "    .dataframe tbody tr th:only-of-type {\n",
       "        vertical-align: middle;\n",
       "    }\n",
       "\n",
       "    .dataframe tbody tr th {\n",
       "        vertical-align: top;\n",
       "    }\n",
       "\n",
       "    .dataframe thead th {\n",
       "        text-align: right;\n",
       "    }\n",
       "</style>\n",
       "<table border=\"1\" class=\"dataframe\">\n",
       "  <thead>\n",
       "    <tr style=\"text-align: right;\">\n",
       "      <th></th>\n",
       "      <th>country_code</th>\n",
       "      <th>Name</th>\n",
       "      <th>Indicator</th>\n",
       "      <th>Year</th>\n",
       "      <th>value</th>\n",
       "      <th>Region</th>\n",
       "      <th>Income Group</th>\n",
       "    </tr>\n",
       "  </thead>\n",
       "  <tbody>\n",
       "    <tr>\n",
       "      <th>0</th>\n",
       "      <td>ABW</td>\n",
       "      <td>Aruba</td>\n",
       "      <td>Consumption</td>\n",
       "      <td>1995</td>\n",
       "      <td>9.301676e+08</td>\n",
       "      <td>Latin America &amp; Caribbean</td>\n",
       "      <td>High income</td>\n",
       "    </tr>\n",
       "    <tr>\n",
       "      <th>1</th>\n",
       "      <td>ABW</td>\n",
       "      <td>Aruba</td>\n",
       "      <td>Consumption</td>\n",
       "      <td>1996</td>\n",
       "      <td>1.015642e+09</td>\n",
       "      <td>Latin America &amp; Caribbean</td>\n",
       "      <td>High income</td>\n",
       "    </tr>\n",
       "    <tr>\n",
       "      <th>2</th>\n",
       "      <td>ABW</td>\n",
       "      <td>Aruba</td>\n",
       "      <td>Consumption</td>\n",
       "      <td>1997</td>\n",
       "      <td>1.125140e+09</td>\n",
       "      <td>Latin America &amp; Caribbean</td>\n",
       "      <td>High income</td>\n",
       "    </tr>\n",
       "    <tr>\n",
       "      <th>3</th>\n",
       "      <td>ABW</td>\n",
       "      <td>Aruba</td>\n",
       "      <td>Consumption</td>\n",
       "      <td>1998</td>\n",
       "      <td>1.203911e+09</td>\n",
       "      <td>Latin America &amp; Caribbean</td>\n",
       "      <td>High income</td>\n",
       "    </tr>\n",
       "    <tr>\n",
       "      <th>4</th>\n",
       "      <td>ABW</td>\n",
       "      <td>Aruba</td>\n",
       "      <td>Consumption</td>\n",
       "      <td>1999</td>\n",
       "      <td>1.271508e+09</td>\n",
       "      <td>Latin America &amp; Caribbean</td>\n",
       "      <td>High income</td>\n",
       "    </tr>\n",
       "  </tbody>\n",
       "</table>\n",
       "</div>"
      ],
      "text/plain": [
       "  country_code   Name    Indicator  Year         value  \\\n",
       "0          ABW  Aruba  Consumption  1995  9.301676e+08   \n",
       "1          ABW  Aruba  Consumption  1996  1.015642e+09   \n",
       "2          ABW  Aruba  Consumption  1997  1.125140e+09   \n",
       "3          ABW  Aruba  Consumption  1998  1.203911e+09   \n",
       "4          ABW  Aruba  Consumption  1999  1.271508e+09   \n",
       "\n",
       "                      Region Income Group  \n",
       "0  Latin America & Caribbean  High income  \n",
       "1  Latin America & Caribbean  High income  \n",
       "2  Latin America & Caribbean  High income  \n",
       "3  Latin America & Caribbean  High income  \n",
       "4  Latin America & Caribbean  High income  "
      ]
     },
     "execution_count": 47,
     "metadata": {},
     "output_type": "execute_result"
    }
   ],
   "source": [
    "df.head()"
   ]
  },
  {
   "cell_type": "code",
   "execution_count": 48,
   "metadata": {},
   "outputs": [],
   "source": [
    "df2 = df.copy()"
   ]
  },
  {
   "cell_type": "code",
   "execution_count": 49,
   "metadata": {},
   "outputs": [
    {
     "data": {
      "text/plain": [
       "MultiIndex([('ABW', 1960,     'Consumption'),\n",
       "            ('ABW', 1960, 'Consumption_alt'),\n",
       "            ('ABW', 1961,     'Consumption'),\n",
       "            ('ABW', 1961, 'Consumption_alt'),\n",
       "            ('ABW', 1962,     'Consumption'),\n",
       "            ('ABW', 1962, 'Consumption_alt'),\n",
       "            ('ABW', 1963,     'Consumption'),\n",
       "            ('ABW', 1963, 'Consumption_alt'),\n",
       "            ('ABW', 1964,     'Consumption'),\n",
       "            ('ABW', 1964, 'Consumption_alt'),\n",
       "            ...\n",
       "            ('ZWE', 2016,     'Consumption'),\n",
       "            ('ZWE', 2016, 'Consumption_alt'),\n",
       "            ('ZWE', 2017,     'Consumption'),\n",
       "            ('ZWE', 2017, 'Consumption_alt'),\n",
       "            ('ZWE', 2018,     'Consumption'),\n",
       "            ('ZWE', 2018, 'Consumption_alt'),\n",
       "            ('ZWE', 2019,     'Consumption'),\n",
       "            ('ZWE', 2019, 'Consumption_alt'),\n",
       "            ('ZWE', 2020,     'Consumption'),\n",
       "            ('ZWE', 2020, 'Consumption_alt')],\n",
       "           names=['country_code', 'Year', 'Indicator'], length=23180)"
      ]
     },
     "execution_count": 49,
     "metadata": {},
     "output_type": "execute_result"
    }
   ],
   "source": [
    "import pandas as pd\n",
    "mux = pd.MultiIndex.from_product([df2['country_code'].unique(), df2['Year'].unique(), df2['Indicator'].unique()],\n",
    "                                  names=('country_code','Year', 'Indicator')).sort_values()\n",
    "mux\n"
   ]
  },
  {
   "cell_type": "code",
   "execution_count": 50,
   "metadata": {},
   "outputs": [],
   "source": [
    "import numpy as np"
   ]
  },
  {
   "cell_type": "code",
   "execution_count": 51,
   "metadata": {},
   "outputs": [],
   "source": [
    "df2 = df2.set_index(['country_code','Year', 'Indicator']).reindex(mux, fill_value=np.nan).reset_index()"
   ]
  },
  {
   "cell_type": "code",
   "execution_count": 52,
   "metadata": {},
   "outputs": [
    {
     "data": {
      "text/html": [
       "<div>\n",
       "<style scoped>\n",
       "    .dataframe tbody tr th:only-of-type {\n",
       "        vertical-align: middle;\n",
       "    }\n",
       "\n",
       "    .dataframe tbody tr th {\n",
       "        vertical-align: top;\n",
       "    }\n",
       "\n",
       "    .dataframe thead th {\n",
       "        text-align: right;\n",
       "    }\n",
       "</style>\n",
       "<table border=\"1\" class=\"dataframe\">\n",
       "  <thead>\n",
       "    <tr style=\"text-align: right;\">\n",
       "      <th></th>\n",
       "      <th>country_code</th>\n",
       "      <th>Year</th>\n",
       "      <th>Indicator</th>\n",
       "      <th>Name</th>\n",
       "      <th>value</th>\n",
       "      <th>Region</th>\n",
       "      <th>Income Group</th>\n",
       "    </tr>\n",
       "  </thead>\n",
       "  <tbody>\n",
       "    <tr>\n",
       "      <th>0</th>\n",
       "      <td>ABW</td>\n",
       "      <td>1960</td>\n",
       "      <td>Consumption</td>\n",
       "      <td>NaN</td>\n",
       "      <td>NaN</td>\n",
       "      <td>NaN</td>\n",
       "      <td>NaN</td>\n",
       "    </tr>\n",
       "    <tr>\n",
       "      <th>1</th>\n",
       "      <td>ABW</td>\n",
       "      <td>1960</td>\n",
       "      <td>Consumption_alt</td>\n",
       "      <td>NaN</td>\n",
       "      <td>NaN</td>\n",
       "      <td>NaN</td>\n",
       "      <td>NaN</td>\n",
       "    </tr>\n",
       "    <tr>\n",
       "      <th>2</th>\n",
       "      <td>ABW</td>\n",
       "      <td>1961</td>\n",
       "      <td>Consumption</td>\n",
       "      <td>NaN</td>\n",
       "      <td>NaN</td>\n",
       "      <td>NaN</td>\n",
       "      <td>NaN</td>\n",
       "    </tr>\n",
       "    <tr>\n",
       "      <th>3</th>\n",
       "      <td>ABW</td>\n",
       "      <td>1961</td>\n",
       "      <td>Consumption_alt</td>\n",
       "      <td>NaN</td>\n",
       "      <td>NaN</td>\n",
       "      <td>NaN</td>\n",
       "      <td>NaN</td>\n",
       "    </tr>\n",
       "    <tr>\n",
       "      <th>4</th>\n",
       "      <td>ABW</td>\n",
       "      <td>1962</td>\n",
       "      <td>Consumption</td>\n",
       "      <td>NaN</td>\n",
       "      <td>NaN</td>\n",
       "      <td>NaN</td>\n",
       "      <td>NaN</td>\n",
       "    </tr>\n",
       "    <tr>\n",
       "      <th>...</th>\n",
       "      <td>...</td>\n",
       "      <td>...</td>\n",
       "      <td>...</td>\n",
       "      <td>...</td>\n",
       "      <td>...</td>\n",
       "      <td>...</td>\n",
       "      <td>...</td>\n",
       "    </tr>\n",
       "    <tr>\n",
       "      <th>23175</th>\n",
       "      <td>ZWE</td>\n",
       "      <td>2018</td>\n",
       "      <td>Consumption_alt</td>\n",
       "      <td>Zimbabwe</td>\n",
       "      <td>3.827253e+10</td>\n",
       "      <td>Sub-Saharan Africa</td>\n",
       "      <td>Lower middle income</td>\n",
       "    </tr>\n",
       "    <tr>\n",
       "      <th>23176</th>\n",
       "      <td>ZWE</td>\n",
       "      <td>2019</td>\n",
       "      <td>Consumption</td>\n",
       "      <td>Zimbabwe</td>\n",
       "      <td>1.800596e+10</td>\n",
       "      <td>Sub-Saharan Africa</td>\n",
       "      <td>Lower middle income</td>\n",
       "    </tr>\n",
       "    <tr>\n",
       "      <th>23177</th>\n",
       "      <td>ZWE</td>\n",
       "      <td>2019</td>\n",
       "      <td>Consumption_alt</td>\n",
       "      <td>Zimbabwe</td>\n",
       "      <td>1.749891e+11</td>\n",
       "      <td>Sub-Saharan Africa</td>\n",
       "      <td>Lower middle income</td>\n",
       "    </tr>\n",
       "    <tr>\n",
       "      <th>23178</th>\n",
       "      <td>ZWE</td>\n",
       "      <td>2020</td>\n",
       "      <td>Consumption</td>\n",
       "      <td>Zimbabwe</td>\n",
       "      <td>1.699446e+10</td>\n",
       "      <td>Sub-Saharan Africa</td>\n",
       "      <td>Lower middle income</td>\n",
       "    </tr>\n",
       "    <tr>\n",
       "      <th>23179</th>\n",
       "      <td>ZWE</td>\n",
       "      <td>2020</td>\n",
       "      <td>Consumption_alt</td>\n",
       "      <td>Zimbabwe</td>\n",
       "      <td>1.089363e+12</td>\n",
       "      <td>Sub-Saharan Africa</td>\n",
       "      <td>Lower middle income</td>\n",
       "    </tr>\n",
       "  </tbody>\n",
       "</table>\n",
       "<p>23180 rows × 7 columns</p>\n",
       "</div>"
      ],
      "text/plain": [
       "      country_code  Year        Indicator      Name         value  \\\n",
       "0              ABW  1960      Consumption       NaN           NaN   \n",
       "1              ABW  1960  Consumption_alt       NaN           NaN   \n",
       "2              ABW  1961      Consumption       NaN           NaN   \n",
       "3              ABW  1961  Consumption_alt       NaN           NaN   \n",
       "4              ABW  1962      Consumption       NaN           NaN   \n",
       "...            ...   ...              ...       ...           ...   \n",
       "23175          ZWE  2018  Consumption_alt  Zimbabwe  3.827253e+10   \n",
       "23176          ZWE  2019      Consumption  Zimbabwe  1.800596e+10   \n",
       "23177          ZWE  2019  Consumption_alt  Zimbabwe  1.749891e+11   \n",
       "23178          ZWE  2020      Consumption  Zimbabwe  1.699446e+10   \n",
       "23179          ZWE  2020  Consumption_alt  Zimbabwe  1.089363e+12   \n",
       "\n",
       "                   Region         Income Group  \n",
       "0                     NaN                  NaN  \n",
       "1                     NaN                  NaN  \n",
       "2                     NaN                  NaN  \n",
       "3                     NaN                  NaN  \n",
       "4                     NaN                  NaN  \n",
       "...                   ...                  ...  \n",
       "23175  Sub-Saharan Africa  Lower middle income  \n",
       "23176  Sub-Saharan Africa  Lower middle income  \n",
       "23177  Sub-Saharan Africa  Lower middle income  \n",
       "23178  Sub-Saharan Africa  Lower middle income  \n",
       "23179  Sub-Saharan Africa  Lower middle income  \n",
       "\n",
       "[23180 rows x 7 columns]"
      ]
     },
     "execution_count": 52,
     "metadata": {},
     "output_type": "execute_result"
    }
   ],
   "source": [
    "df2"
   ]
  },
  {
   "cell_type": "code",
   "execution_count": 53,
   "metadata": {},
   "outputs": [
    {
     "data": {
      "text/plain": [
       "Indicator\n",
       "Consumption        3585\n",
       "Consumption_alt    3532\n",
       "Name: isna, dtype: int64"
      ]
     },
     "execution_count": 53,
     "metadata": {},
     "output_type": "execute_result"
    }
   ],
   "source": [
    "# finding: investment alt is better\n",
    "# do have less missing values when use inflation\n",
    "# but no guarantee\n",
    "df2['isna'] = df2['value'].isna()\n",
    "df2.groupby(['Indicator'])['isna'].sum()"
   ]
  },
  {
   "cell_type": "code",
   "execution_count": null,
   "metadata": {},
   "outputs": [],
   "source": []
  }
 ],
 "metadata": {
  "kernelspec": {
   "display_name": "main",
   "language": "python",
   "name": "python3"
  },
  "language_info": {
   "codemirror_mode": {
    "name": "ipython",
    "version": 3
   },
   "file_extension": ".py",
   "mimetype": "text/x-python",
   "name": "python",
   "nbconvert_exporter": "python",
   "pygments_lexer": "ipython3",
   "version": "3.9.6"
  }
 },
 "nbformat": 4,
 "nbformat_minor": 2
}
